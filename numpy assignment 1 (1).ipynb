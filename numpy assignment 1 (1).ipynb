{
 "cells": [
  {
   "cell_type": "markdown",
   "id": "6314c108",
   "metadata": {},
   "source": [
    "# 1. Create a NumPy array 'arr' of integers from 0 to 5 and print its data type.\n"
   ]
  },
  {
   "cell_type": "code",
   "execution_count": 2,
   "id": "a7e1672c",
   "metadata": {},
   "outputs": [],
   "source": [
    "import numpy as np"
   ]
  },
  {
   "cell_type": "code",
   "execution_count": 3,
   "id": "cde32915",
   "metadata": {},
   "outputs": [
    {
     "name": "stdout",
     "output_type": "stream",
     "text": [
      "[1 2 3 4 5]\n",
      "<class 'numpy.ndarray'>\n"
     ]
    }
   ],
   "source": [
    "arr = np.array([1,2,3,4,5])\n",
    "print(arr)\n",
    "print(type(arr))"
   ]
  },
  {
   "cell_type": "markdown",
   "id": "911d4f19",
   "metadata": {},
   "source": [
    "# 2. Given a NumPy array 'arr', check if its data type is float64.\n"
   ]
  },
  {
   "cell_type": "code",
   "execution_count": 4,
   "id": "fc47e8bf",
   "metadata": {},
   "outputs": [
    {
     "name": "stdout",
     "output_type": "stream",
     "text": [
      "Datatype: float64\n"
     ]
    }
   ],
   "source": [
    "arr = np.array([1.5, 2.6, 3.7])\n",
    "\n",
    "print('Datatype:', arr.dtype)"
   ]
  },
  {
   "cell_type": "markdown",
   "id": "9c04eced",
   "metadata": {},
   "source": [
    "# 3. Create a NumPy array 'arr' with a data type of complex128 containing three complex numbers"
   ]
  },
  {
   "cell_type": "code",
   "execution_count": 5,
   "id": "a2595566",
   "metadata": {},
   "outputs": [
    {
     "name": "stdout",
     "output_type": "stream",
     "text": [
      "[ 1.+0.j  3.+0.j  2.+3.j 33.+0.j  4.+7.j  3.+7.j]\n"
     ]
    }
   ],
   "source": [
    "arr = np.array([1,3,2+3j, 33, 4+7j, 3+7j])\n",
    "print(arr)"
   ]
  },
  {
   "cell_type": "markdown",
   "id": "788eaac6",
   "metadata": {},
   "source": [
    "# 4. Convert an existing NumPy array 'arr' of integers to float32 data type."
   ]
  },
  {
   "cell_type": "code",
   "execution_count": 6,
   "id": "f7cf02a6",
   "metadata": {},
   "outputs": [
    {
     "name": "stdout",
     "output_type": "stream",
     "text": [
      "Converted array (float32): [1. 2. 3. 4. 5.]\n"
     ]
    }
   ],
   "source": [
    "\n",
    "arr = np.array([1, 2, 3, 4, 5])\n",
    "arr_float32 = arr.astype(np.float32)\n",
    "\n",
    "print(\"Converted array (float32):\", arr_float32)"
   ]
  },
  {
   "cell_type": "code",
   "execution_count": null,
   "id": "ba6fa49d",
   "metadata": {},
   "outputs": [],
   "source": []
  },
  {
   "cell_type": "markdown",
   "id": "5e5b4157",
   "metadata": {},
   "source": [
    "# 5. Given a NumPy array 'arr' with float64 data type, convert it to float32 to reduce decimal precision"
   ]
  },
  {
   "cell_type": "code",
   "execution_count": 7,
   "id": "2c7a0079",
   "metadata": {},
   "outputs": [
    {
     "name": "stdout",
     "output_type": "stream",
     "text": [
      "Original array (float64): [1.23456789 2.3456789  3.456789   4.56789   ]\n",
      "Converted array (float32): [1.2345679 2.3456788 3.456789  4.56789  ]\n"
     ]
    }
   ],
   "source": [
    "import numpy as np\n",
    "arr = np.array([1.23456789, 2.3456789, 3.456789, 4.56789])\n",
    "arr_float32 = arr.astype(np.float32)\n",
    "print(\"Original array (float64):\", arr)\n",
    "print(\"Converted array (float32):\", arr_float32)\n"
   ]
  },
  {
   "cell_type": "markdown",
   "id": "c7b348b6",
   "metadata": {},
   "source": [
    "# 6. Write a function array_attributes that takes a NumPy array as input and returns its shape, size, and datatype"
   ]
  },
  {
   "cell_type": "code",
   "execution_count": 22,
   "id": "50a9a56c",
   "metadata": {},
   "outputs": [
    {
     "name": "stdout",
     "output_type": "stream",
     "text": [
      "type arr4\n",
      "()\n",
      "1\n"
     ]
    },
    {
     "data": {
      "text/plain": [
       "dtype('<U1')"
      ]
     },
     "execution_count": 22,
     "metadata": {},
     "output_type": "execute_result"
    }
   ],
   "source": [
    "arr = np.array(input(\"type arr\"))\n",
    "attributes = (arr)\n",
    "print(arr.shape)\n",
    "print(arr.size)\n",
    "arr.dtype\n",
    "\n"
   ]
  },
  {
   "cell_type": "markdown",
   "id": "fde2fdc0",
   "metadata": {},
   "source": [
    "# 7. Create a function array_dimension that takes a NumPy array as input and returns its dimensionality."
   ]
  },
  {
   "cell_type": "code",
   "execution_count": null,
   "id": "90e27d6d",
   "metadata": {},
   "outputs": [],
   "source": [
    "arr_1d = np.array([1, 2, 3, 4])\n",
    "arr_2d = np.array([[1, 2], [3, 4]])\n",
    "arr_3d = np.array([[[1, 2], [3, 4]], [[5, 6], [7, 8]]])\n",
    "\n",
    "print(\"Dimensionality of arr_1d:\", array_dimension(arr_1d))  \n",
    "print(\"Dimensionality of arr_2d:\", array_dimension(arr_2d))\n",
    "print(\"Dimensionality of arr_3d:\", array_dimension(arr_3d))   \n"
   ]
  },
  {
   "cell_type": "markdown",
   "id": "5e9675d1",
   "metadata": {},
   "source": [
    "# 8. Design a function item_size_info that takes a NumPy array as input and returns the item size and the total size in bytes"
   ]
  },
  {
   "cell_type": "code",
   "execution_count": null,
   "id": "67370798",
   "metadata": {},
   "outputs": [],
   "source": [
    "arr = np.array([[1, 2, 3], [4, 5, 6]], dtype=np.float64)\n",
    "\n",
    "item_size, total_size = item_size_info(arr)\n",
    "\n",
    "print(\"Item size (bytes):\", item_size)   \n",
    "print(\"Total size (bytes):\", total_size)   \n"
   ]
  },
  {
   "cell_type": "markdown",
   "id": "5bd61d59",
   "metadata": {},
   "source": [
    "# 10. Design a function shape_stride_relationship that takes a NumPy array as input and returns the shape and strides of the array."
   ]
  },
  {
   "cell_type": "code",
   "execution_count": null,
   "id": "3615ff81",
   "metadata": {},
   "outputs": [],
   "source": [
    "arr = np.array([[1, 2, 3], [4, 5, 6]])\n",
    "shape, strides = shape_stride_relationship(arr)\n",
    "print(\"Shape of the array:\", shape)     \n",
    "print(\"Strides of the array:\", strides) \n"
   ]
  },
  {
   "cell_type": "markdown",
   "id": "574819ef",
   "metadata": {},
   "source": [
    "# 11. Create a function `create_zeros_array` that takes an integer `n` as input and returns a NumPy array of zeros with `n` elements "
   ]
  },
  {
   "cell_type": "code",
   "execution_count": null,
   "id": "247db933",
   "metadata": {},
   "outputs": [],
   "source": [
    "n = 5\n",
    "zeros_arr = create_zeros_array(n)\n",
    "print(\"Zeros array of length\", n, \":\", zeros_arr)\n"
   ]
  },
  {
   "cell_type": "markdown",
   "id": "287f6481",
   "metadata": {},
   "source": [
    "# 12. Write a function `create_ones_matrix` that takes integers `rows` and `cols` as inputs and generates a 2D NumPy array filled with ones of size `rows x cols`"
   ]
  },
  {
   "cell_type": "code",
   "execution_count": null,
   "id": "26dbf52a",
   "metadata": {},
   "outputs": [],
   "source": [
    "\n",
    "rows = 3\n",
    "cols = 4\n",
    "ones_matrix = create_ones_matrix(rows, cols)\n",
    "print(\"Ones matrix of size\", rows, \"x\", cols, \":\\n\", ones_matrix)\n"
   ]
  },
  {
   "cell_type": "markdown",
   "id": "3b5ad37e",
   "metadata": {},
   "source": [
    "# 13. Write a function `generate_range_array` that takes three integers start, stop, and step as arguments and creates a NumPy array with a range starting from `start`, ending at stop (exclusive), and with the specified step`."
   ]
  },
  {
   "cell_type": "code",
   "execution_count": null,
   "id": "dc5952d5",
   "metadata": {},
   "outputs": [],
   "source": [
    "\n",
    "start = 1\n",
    "stop = 10\n",
    "step = 2\n",
    "range_arr = generate_range_array(start, stop, step)\n",
    "print(\"Range array from\", start, \"to\", stop, \"with step\", step, \":\\n\", range_arr)\n"
   ]
  },
  {
   "cell_type": "markdown",
   "id": "6089785a",
   "metadata": {},
   "source": [
    "# 14. Design a function `generate_linear_space` that takes two floats `start`, `stop`, and an integer `num` as arguments and generates a NumPy array with num equally spaced values between `start` and `stop` (inclusive)."
   ]
  },
  {
   "cell_type": "code",
   "execution_count": null,
   "id": "80baf427",
   "metadata": {},
   "outputs": [],
   "source": [
    "start = 1.0\n",
    "stop = 2.0\n",
    "num = 5\n",
    "linspace_arr = generate_linear_space(start, stop, num)\n",
    "print(\"Linearly spaced array from\", start, \"to\", stop, \"with\", num, \"values:\\n\", linspace_arr)\n"
   ]
  },
  {
   "cell_type": "markdown",
   "id": "292d1505",
   "metadata": {},
   "source": [
    "# 15. Create a function `create_identity_matrix` that takes an integer `n` as input and generates a square  matrix of size `n x n` using `numpy.eye`."
   ]
  },
  {
   "cell_type": "code",
   "execution_count": null,
   "id": "0e238f66",
   "metadata": {},
   "outputs": [],
   "source": [
    "n = 4\n",
    "identity_matrix = create_identity_matrix(n)\n",
    "print(f\"Identity matrix of size {n} x {n}:\\n\", identity_matrix)\n"
   ]
  },
  {
   "cell_type": "markdown",
   "id": "055687f4",
   "metadata": {},
   "source": [
    "# 16. Write a function that takes a Python list and converts it into a NumPy array"
   ]
  },
  {
   "cell_type": "code",
   "execution_count": null,
   "id": "8823ae01",
   "metadata": {},
   "outputs": [],
   "source": [
    "pyhon = [1, 2, 3, 4, 5]\n",
    "numpy_array = list_to_numpy_array(python_list)\n",
    "print(\"Python list:\", python_list)\n",
    "print(\"NumPy array:\", numpy_array)\n"
   ]
  },
  {
   "cell_type": "markdown",
   "id": "9e59a7ec",
   "metadata": {},
   "source": [
    "# 17. Create a NumPy array and demonstrate the use of `numpy.view` to create a new array object with the same data."
   ]
  },
  {
   "cell_type": "code",
   "execution_count": 8,
   "id": "b6a928f0",
   "metadata": {},
   "outputs": [
    {
     "name": "stdout",
     "output_type": "stream",
     "text": [
      "Original array:\n",
      " [[100   2   3]\n",
      " [  4   5   6]]\n",
      "View array:\n",
      " [[100   2   3]\n",
      " [  4   5   6]]\n"
     ]
    }
   ],
   "source": [
    "original_array = np.array([[1, 2, 3], [4, 5, 6]])\n",
    "view_array = original_array.view()\n",
    "view_array[0, 0] = 100\n",
    "print(\"Original array:\\n\", original_array)\n",
    "print(\"View array:\\n\", view_array)\n"
   ]
  },
  {
   "cell_type": "markdown",
   "id": "ec8f2b3e",
   "metadata": {},
   "source": [
    "# 18. Write a function that takes two NumPy arrays and concatenates them along a specified axis."
   ]
  },
  {
   "cell_type": "code",
   "execution_count": 15,
   "id": "87c4eb4d",
   "metadata": {},
   "outputs": [
    {
     "name": "stdout",
     "output_type": "stream",
     "text": [
      "[[1 2]\n",
      " [3 4]\n",
      " [5 6]\n",
      " [7 8]]\n",
      "[[1 2 5 6]\n",
      " [3 4 7 8]]\n"
     ]
    }
   ],
   "source": [
    "import numpy as np\n",
    "def concatenate_arrays(arr1, arr2, axis=0):\n",
    "    return np.concatenate((arr1, arr2), axis=axis)\n",
    "array1 = np.array([[1, 2], [3, 4]])\n",
    "array2 = np.array([[5, 6], [7, 8]])\n",
    "result = concatenate_arrays(array1, array2, axis=0)\n",
    "print(result)\n",
    "result = concatenate_arrays(array1, array2, axis=1)\n",
    "print(result)"
   ]
  },
  {
   "cell_type": "markdown",
   "id": "0afa4843",
   "metadata": {},
   "source": [
    "# 19. Create two NumPy arrays with different shapes and concatenate them horizontally using `numpy. concatenate`."
   ]
  },
  {
   "cell_type": "code",
   "execution_count": 10,
   "id": "656b0511",
   "metadata": {},
   "outputs": [
    {
     "name": "stdout",
     "output_type": "stream",
     "text": [
      "Array 1:\n",
      " [[1 2 3]\n",
      " [4 5 6]]\n",
      "Array 2:\n",
      " [[7]\n",
      " [8]]\n",
      "Concatenated Array:\n",
      " [[1 2 3 7]\n",
      " [4 5 6 8]]\n"
     ]
    }
   ],
   "source": [
    "import numpy as np\n",
    "array1 = np.array([[1, 2, 3], [4, 5, 6]]) \n",
    "array2 = np.array([[7], [8]])  \n",
    "result = np.hstack((array1, array2))\n",
    "print(\"Array 1:\\n\", array1)\n",
    "print(\"Array 2:\\n\", array2)\n",
    "print(\"Concatenated Array:\\n\", result)"
   ]
  },
  {
   "cell_type": "markdown",
   "id": "ba830e1c",
   "metadata": {},
   "source": [
    "# 20. Write a function that vertically stacks multiple NumPy arrays given as a list."
   ]
  },
  {
   "cell_type": "code",
   "execution_count": 23,
   "id": "20145729",
   "metadata": {},
   "outputs": [
    {
     "name": "stdout",
     "output_type": "stream",
     "text": [
      "Array 1:\n",
      " [[1 2]\n",
      " [3 4]]\n",
      "Array 2:\n",
      " [[5 6]\n",
      " [7 8]]\n",
      "Array 3:\n",
      " [[ 9 10]\n",
      " [11 12]]\n",
      "Vertically Stacked Result:\n",
      " [array([[1, 2],\n",
      "       [3, 4]]), array([[5, 6],\n",
      "       [7, 8]]), array([[ 9, 10],\n",
      "       [11, 12]])]\n"
     ]
    }
   ],
   "source": [
    "array1 = np.array([[1, 2], [3, 4]])\n",
    "array2 = np.array([[5, 6], [7, 8]])\n",
    "array3 = np.array([[9, 10], [11, 12]])\n",
    "stacked_result =([array1, array2, array3])\n",
    "print(\"Array 1:\\n\", array1)\n",
    "print(\"Array 2:\\n\", array2)\n",
    "print(\"Array 3:\\n\", array3)\n",
    "print(\"Vertically Stacked Result:\\n\", stacked_result)"
   ]
  },
  {
   "cell_type": "markdown",
   "id": "1929a7ac",
   "metadata": {},
   "source": [
    "# 21. Write a Python function using NumPy to create an array of integers within a specified range (inclusive) with a given step size"
   ]
  },
  {
   "cell_type": "code",
   "execution_count": 12,
   "id": "5f569d25",
   "metadata": {},
   "outputs": [
    {
     "name": "stdout",
     "output_type": "stream",
     "text": [
      "Array of integers from 10 to 30 (inclusive) with step size 6:\n",
      "[[1 2 3 7]\n",
      " [4 5 6 8]]\n"
     ]
    }
   ],
   "source": [
    "start = 10\n",
    "stop = 30\n",
    "step = 6\n",
    "print(f\"Array of integers from {start} to {stop} (inclusive) with step size {step}:\")\n",
    "print(result)"
   ]
  },
  {
   "cell_type": "markdown",
   "id": "7f08833c",
   "metadata": {},
   "source": [
    "# 22. Write a Python function using NumPy to generate an array of 10 equally spaced values between 0 and 1 (inclusive)."
   ]
  },
  {
   "cell_type": "code",
   "execution_count": 13,
   "id": "5167c048",
   "metadata": {},
   "outputs": [
    {
     "ename": "NameError",
     "evalue": "name 'generate_equal_spaced_values' is not defined",
     "output_type": "error",
     "traceback": [
      "\u001b[1;31m---------------------------------------------------------------------------\u001b[0m",
      "\u001b[1;31mNameError\u001b[0m                                 Traceback (most recent call last)",
      "Cell \u001b[1;32mIn[13], line 1\u001b[0m\n\u001b[1;32m----> 1\u001b[0m values \u001b[38;5;241m=\u001b[39m generate_equal_spaced_values()\n\u001b[0;32m      2\u001b[0m \u001b[38;5;28mprint\u001b[39m(values)\n",
      "\u001b[1;31mNameError\u001b[0m: name 'generate_equal_spaced_values' is not defined"
     ]
    }
   ],
   "source": [
    "values = generate_equal_spaced_values()\n",
    "print(values)\n",
    "\n"
   ]
  },
  {
   "cell_type": "markdown",
   "id": "2b50b0e4",
   "metadata": {},
   "source": [
    "# 23. Write a Python function using NumPy to create an array of 5 logarithmically spaced values between 1 and 1000 (inclusive)."
   ]
  },
  {
   "cell_type": "code",
   "execution_count": 24,
   "id": "c14da466",
   "metadata": {},
   "outputs": [
    {
     "name": "stdout",
     "output_type": "stream",
     "text": [
      "[   1.            5.62341325   31.6227766   177.827941   1000.        ]\n"
     ]
    }
   ],
   "source": [
    "def create_log_space_array(start, stop, num_values):\n",
    "    return np.logspace(np.log10(start), np.log10(stop), num=num_values)\n",
    "log_space_array = create_log_space_array(1, 1000, 5)\n",
    "print(log_space_array)"
   ]
  },
  {
   "cell_type": "markdown",
   "id": "83f08140",
   "metadata": {},
   "source": [
    "# 24. Create a Pandas DataFrame using a NumPy array that contains 5 rows and 3 columns, where the values are random integers between 1 and 100."
   ]
  },
  {
   "cell_type": "code",
   "execution_count": 15,
   "id": "4997d86e",
   "metadata": {},
   "outputs": [
    {
     "name": "stdout",
     "output_type": "stream",
     "text": [
      "   Column1  Column2  Column3\n",
      "0       96       85        9\n",
      "1       24       29       30\n",
      "2       33       10       17\n",
      "3       24       47       49\n",
      "4       83       98       43\n"
     ]
    }
   ],
   "source": [
    "import pandas as pd\n",
    "import numpy as np\n",
    "def create_random_dataframe():\n",
    "    data = np.random.randint(1, 101, size=(5, 3))\n",
    "    df = pd.DataFrame(data, columns=['Column1', 'Column2', 'Column3'])\n",
    "    return df\n",
    "\n",
    "df = create_random_dataframe()\n",
    "print(df)\n"
   ]
  },
  {
   "cell_type": "markdown",
   "id": "9aa0c38d",
   "metadata": {},
   "source": [
    "# 25. Write a function that takes a Pandas DataFrame and replaces all negative values in a specific column with zeros. Use NumPy operations within the Pandas DataFrame."
   ]
  },
  {
   "cell_type": "code",
   "execution_count": 16,
   "id": "16ebb24d",
   "metadata": {},
   "outputs": [
    {
     "name": "stdout",
     "output_type": "stream",
     "text": [
      "Before replacing negatives:\n",
      "   A   B\n",
      "0  1  10\n",
      "1 -2  20\n",
      "2  3 -30\n",
      "3 -4  40\n",
      "4  5 -50\n",
      "\n",
      "After replacing negatives in column 'A':\n",
      "   A   B\n",
      "0  1  10\n",
      "1  0  20\n",
      "2  3 -30\n",
      "3  0  40\n",
      "4  5 -50\n"
     ]
    }
   ],
   "source": [
    "def replace_negatives_with_zero(df, column_name):\n",
    "    df[column_name] = np.where(df[column_name] < 0, 0, df[column_name])\n",
    "    return df\n",
    "data = {'A': [1, -2, 3, -4, 5], 'B': [10, 20, -30, 40, -50]}\n",
    "df = pd.DataFrame(data)\n",
    "print(\"Before replacing negatives:\")\n",
    "print(df)\n",
    "\n",
    "df = replace_negatives_with_zero(df, 'A')\n",
    "print(\"\\nAfter replacing negatives in column 'A':\")\n",
    "print(df)\n"
   ]
  },
  {
   "cell_type": "code",
   "execution_count": 17,
   "id": "1bb3e63a",
   "metadata": {},
   "outputs": [
    {
     "name": "stdout",
     "output_type": "stream",
     "text": [
      "30\n"
     ]
    }
   ],
   "source": [
    "arr = np.array([10, 20, 30, 40, 50])\n",
    "third_element = arr[2]\n",
    "print(third_element)"
   ]
  },
  {
   "cell_type": "markdown",
   "id": "56203182",
   "metadata": {},
   "source": [
    "# 27. Retrieve the element at index (1, 2) from the 2D NumPy array"
   ]
  },
  {
   "cell_type": "code",
   "execution_count": 18,
   "id": "fdd18ed2",
   "metadata": {},
   "outputs": [
    {
     "name": "stdout",
     "output_type": "stream",
     "text": [
      "6\n"
     ]
    }
   ],
   "source": [
    "arr_2d = np.array([[1, 2, 3],\n",
    "                   [4, 5, 6],\n",
    "                   [7, 8, 9]])\n",
    "\n",
    "element = arr_2d[1, 2]\n",
    "print(element)"
   ]
  },
  {
   "cell_type": "markdown",
   "id": "e4980a57",
   "metadata": {},
   "source": [
    "# 28. Using boolean indexing, extract elements greater than 5 from the given NumPy array."
   ]
  },
  {
   "cell_type": "code",
   "execution_count": 19,
   "id": "b1dcac4e",
   "metadata": {},
   "outputs": [
    {
     "name": "stdout",
     "output_type": "stream",
     "text": [
      "[ 8 10  7]\n"
     ]
    }
   ],
   "source": [
    "arr = np.array([3, 8, 2, 10, 5, 7])\n",
    "mask = arr > 5\n",
    "filtered_arr = arr[mask]\n",
    "print(filtered_arr)"
   ]
  },
  {
   "cell_type": "markdown",
   "id": "4f388358",
   "metadata": {},
   "source": [
    "# 29. Perform basic slicing to extract elements from index 2 to 5 (inclusive) from the given NumPy ar"
   ]
  },
  {
   "cell_type": "code",
   "execution_count": 20,
   "id": "efd2f41e",
   "metadata": {},
   "outputs": [
    {
     "name": "stdout",
     "output_type": "stream",
     "text": [
      "[3 4 5 6]\n"
     ]
    }
   ],
   "source": [
    "arr = np.array([1, 2, 3, 4, 5, 6, 7, 8, 9])\n",
    "sliced_arr = arr[2:6]\n",
    "print(sliced_arr)"
   ]
  },
  {
   "cell_type": "markdown",
   "id": "24aec245",
   "metadata": {},
   "source": [
    "# 30. Slice the 2D NumPy array to extract the sub-array `[[2, 3], [5, 6]]` from the given array."
   ]
  },
  {
   "cell_type": "code",
   "execution_count": 21,
   "id": "a86ab2a7",
   "metadata": {},
   "outputs": [
    {
     "name": "stdout",
     "output_type": "stream",
     "text": [
      "[[2 3]\n",
      " [5 6]]\n"
     ]
    }
   ],
   "source": [
    "arr_2d = np.array([[1, 2, 3],\n",
    "                   [4, 5, 6],\n",
    "                   [7, 8, 9]])\n",
    "sub_array = arr_2d[0:2, 1:3]\n",
    "print(sub_array)"
   ]
  },
  {
   "cell_type": "markdown",
   "id": "83ccb740",
   "metadata": {},
   "source": [
    "# 31.Write a NumPy function to extract elements in specific order from a given 2D array based on indices provided in another array."
   ]
  },
  {
   "cell_type": "code",
   "execution_count": 22,
   "id": "1ed8c7a8",
   "metadata": {},
   "outputs": [
    {
     "name": "stdout",
     "output_type": "stream",
     "text": [
      "[2 6 7]\n"
     ]
    }
   ],
   "source": [
    "def extract_elements(arr_2d, indices):\n",
    "    return arr_2d[indices[:, 0], indices[:, 1]]\n",
    "arr_2d = np.array([[1, 2, 3],\n",
    "                   [4, 5, 6],\n",
    "                   [7, 8, 9]])\n",
    "\n",
    "indices = np.array([[0, 1], \n",
    "                    [1, 2], \n",
    "                    [2, 0]])\n",
    "\n",
    "extracted_elements = extract_elements(arr_2d, indices)\n",
    "print(extracted_elements)\n"
   ]
  },
  {
   "cell_type": "markdown",
   "id": "6277c0a1",
   "metadata": {},
   "source": [
    "# 32. Create a NumPy function that filters elements greater than a threshold from a given 1D array using boolean indexing."
   ]
  },
  {
   "cell_type": "code",
   "execution_count": 23,
   "id": "0edb5164",
   "metadata": {},
   "outputs": [
    {
     "name": "stdout",
     "output_type": "stream",
     "text": [
      "[10  7  8]\n"
     ]
    }
   ],
   "source": [
    "def filter_elements(arr, threshold):\n",
    "    mask = arr > threshold\n",
    "    filtered_arr = arr[mask]\n",
    "    return filtered_arr\n",
    "arr = np.array([1, 5, 10, 3, 7, 8])\n",
    "threshold = 5\n",
    "\n",
    "filtered_elements = filter_elements(arr, threshold)\n",
    "print(filtered_elements)"
   ]
  },
  {
   "cell_type": "markdown",
   "id": "49cb52c0",
   "metadata": {},
   "source": [
    "# 33. Develop a NumPy function that extracts specific elements from a 3D array using indices provided in three separate arrays for each dimension."
   ]
  },
  {
   "cell_type": "code",
   "execution_count": 24,
   "id": "c7ea759b",
   "metadata": {},
   "outputs": [
    {
     "name": "stdout",
     "output_type": "stream",
     "text": [
      "[ 2 12]\n"
     ]
    }
   ],
   "source": [
    "def extract_elements_3d(arr_3d, indices_dim1, indices_dim2, indices_dim3):\n",
    "    return arr_3d[indices_dim1, indices_dim2, indices_dim3]\n",
    "arr_3d = np.array([\n",
    "    [[1, 2, 3], [4, 5, 6]],\n",
    "    [[7, 8, 9], [10, 11, 12]]\n",
    "])\n",
    "\n",
    "indices_dim1 = np.array([0, 1]) \n",
    "indices_dim2 = np.array([0, 1]) \n",
    "indices_dim3 = np.array([1, 2])  \n",
    "\n",
    "extracted_elements = extract_elements_3d(arr_3d, indices_dim1, indices_dim2, indices_dim3)\n",
    "print(extracted_elements)\n"
   ]
  },
  {
   "cell_type": "markdown",
   "id": "6a2ea9b3",
   "metadata": {},
   "source": [
    "# 34. Write a NumPy function that returns elements from an array where both two conditions are satisfied using boolean indexing."
   ]
  },
  {
   "cell_type": "code",
   "execution_count": 25,
   "id": "07eafc1c",
   "metadata": {},
   "outputs": [
    {
     "name": "stdout",
     "output_type": "stream",
     "text": [
      "[5 7]\n"
     ]
    }
   ],
   "source": [
    "def filter_elements_with_conditions(arr, condition1, condition2):\n",
    "    mask = (condition1) & (condition2)\n",
    "    filtered_arr = arr[mask]\n",
    "    return filtered_arr\n",
    "arr = np.array([1, 5, 10, 3, 7, 8])\n",
    "condition1 = arr > 3\n",
    "condition2 = arr < 8\n",
    "filtered_elements = filter_elements_with_conditions(arr, condition1, condition2)\n",
    "print(filtered_elements)\n"
   ]
  },
  {
   "cell_type": "markdown",
   "id": "bc4b4f31",
   "metadata": {},
   "source": [
    "# 35. Create a NumPy function that extracts elements from a 2D array using row and column indices provided in separate arrays."
   ]
  },
  {
   "cell_type": "code",
   "execution_count": 26,
   "id": "48b0393f",
   "metadata": {},
   "outputs": [
    {
     "name": "stdout",
     "output_type": "stream",
     "text": [
      "[2 6 7]\n"
     ]
    }
   ],
   "source": [
    "import numpy as np\n",
    "\n",
    "def extract_elements_2d(arr_2d, row_indices, col_indices):\n",
    "    return arr_2d[row_indices, col_indices]\n",
    "arr_2d = np.array([[1, 2, 3],\n",
    "                   [4, 5, 6],\n",
    "                   [7, 8, 9]])\n",
    "row_indices = np.array([0, 1, 2]) \n",
    "col_indices = np.array([1, 2, 0]) \n",
    "extracted_elements = extract_elements_2d(arr_2d, row_indices, col_indices)\n",
    "print(extracted_elements)"
   ]
  },
  {
   "cell_type": "markdown",
   "id": "83858256",
   "metadata": {},
   "source": [
    "# 36. Given an array arr of shape (3, 3), add a scalar value of 5 to each element using NumPy broadcasting."
   ]
  },
  {
   "cell_type": "code",
   "execution_count": 27,
   "id": "52028698",
   "metadata": {},
   "outputs": [
    {
     "name": "stdout",
     "output_type": "stream",
     "text": [
      "[[ 6  7  8]\n",
      " [ 9 10 11]\n",
      " [12 13 14]]\n"
     ]
    }
   ],
   "source": [
    "arr = np.array([[1, 2, 3],\n",
    "                [4, 5, 6],\n",
    "                [7, 8, 9]])\n",
    "arr_plus_5 = arr + 5\n",
    "print(arr_plus_5)"
   ]
  },
  {
   "cell_type": "markdown",
   "id": "3ac4a432",
   "metadata": {},
   "source": [
    "# 37. Consider two arrays arr1 of shape (1, 3) and arr2 of shape (3, 4). Multiply each row of arr2 by the corresponding element in arr1 using NumPy broadcasting."
   ]
  },
  {
   "cell_type": "code",
   "execution_count": 28,
   "id": "199a3111",
   "metadata": {},
   "outputs": [
    {
     "name": "stdout",
     "output_type": "stream",
     "text": [
      "[[ 2  4  6  8]\n",
      " [15 18 21 24]\n",
      " [36 40 44 48]]\n"
     ]
    }
   ],
   "source": [
    "arr1 = np.array([[2, 3, 4]])\n",
    "arr2 = np.array([[1, 2, 3, 4],\n",
    "                 [5, 6, 7, 8],\n",
    "                 [9, 10, 11, 12]])\n",
    "result = arr1.T * arr2\n",
    "print(result)"
   ]
  },
  {
   "cell_type": "markdown",
   "id": "81ca86e7",
   "metadata": {},
   "source": [
    "# 38. Given a 1D array arr1 of shape (1, 4) and a 2D array arr2 of shape (4, 3), add arr1 to each row of arr2 using NumPy broadcasting."
   ]
  },
  {
   "cell_type": "code",
   "execution_count": 29,
   "id": "2f1f040a",
   "metadata": {},
   "outputs": [
    {
     "name": "stdout",
     "output_type": "stream",
     "text": [
      "[[ 6  7  8]\n",
      " [10 11 12]\n",
      " [14 15 16]\n",
      " [18 19 20]]\n"
     ]
    }
   ],
   "source": [
    "arr1 = np.array([[1, 2, 3, 4]])  \n",
    "arr2 = np.array([[5, 6, 7],\n",
    "                 [8, 9, 10],\n",
    "                 [11, 12, 13],\n",
    "                 [14, 15, 16]]) \n",
    "arr1_reshaped = arr1.T  \n",
    "result = arr2 + arr1_reshaped\n",
    "print(result)"
   ]
  },
  {
   "cell_type": "markdown",
   "id": "3b2c7d21",
   "metadata": {},
   "source": [
    "# 39. Consider two arrays arr1 of shape (3, 1) and arr2 of shape (1, 3). Add these arrays using NumPy broadcasting."
   ]
  },
  {
   "cell_type": "code",
   "execution_count": 30,
   "id": "bbeb05bc",
   "metadata": {},
   "outputs": [
    {
     "name": "stdout",
     "output_type": "stream",
     "text": [
      "[[5 6 7]\n",
      " [6 7 8]\n",
      " [7 8 9]]\n"
     ]
    }
   ],
   "source": [
    "arr1 = np.array([[1], [2], [3]])  \n",
    "arr2 = np.array([[4, 5, 6]])     \n",
    "result = arr1 + arr2\n",
    "print(result)"
   ]
  },
  {
   "cell_type": "markdown",
   "id": "9e045fd0",
   "metadata": {},
   "source": [
    "# 40. Given arrays arr1 of shape (2, 3) and arr2 of shape (2, 2), perform multiplication using NumPy broadcasting. Handle the shape incompatibility"
   ]
  },
  {
   "cell_type": "code",
   "execution_count": 31,
   "id": "33a58d89",
   "metadata": {},
   "outputs": [
    {
     "name": "stdout",
     "output_type": "stream",
     "text": [
      "[[[ 7 14 21]\n",
      "  [ 8 16 24]]\n",
      "\n",
      " [[36 45 54]\n",
      "  [40 50 60]]]\n"
     ]
    }
   ],
   "source": [
    "arr1 = np.array([[1, 2, 3],\n",
    "                 [4, 5, 6]])  \n",
    "arr2 = np.array([[7, 8],\n",
    "                 [9, 10]])   \n",
    "arr2_reshaped = arr2[:, :, np.newaxis]  \n",
    "arr1_reshaped = arr1[:, np.newaxis, :] \n",
    "result = arr1_reshaped * arr2_reshaped\n",
    "print(result)"
   ]
  },
  {
   "cell_type": "markdown",
   "id": "c5b86be7",
   "metadata": {},
   "source": [
    "# 41. Calculate column wise mean for the given array:"
   ]
  },
  {
   "cell_type": "code",
   "execution_count": 32,
   "id": "d6e88498",
   "metadata": {},
   "outputs": [
    {
     "name": "stdout",
     "output_type": "stream",
     "text": [
      "[2.5 3.5 4.5]\n"
     ]
    }
   ],
   "source": [
    "arr = np.array([[1, 2, 3],\n",
    "                [4, 5, 6]])\n",
    "column_mean = np.mean(arr, axis=0)\n",
    "print(column_mean)"
   ]
  },
  {
   "cell_type": "markdown",
   "id": "179e2fd3",
   "metadata": {},
   "source": [
    "# 42. Find maximum value in each row of the given array:"
   ]
  },
  {
   "cell_type": "code",
   "execution_count": 33,
   "id": "3243a656",
   "metadata": {},
   "outputs": [
    {
     "name": "stdout",
     "output_type": "stream",
     "text": [
      "[4 5 6]\n"
     ]
    }
   ],
   "source": [
    "arr = np.array([[1, 2, 3], [4, 5, 6]])\n",
    "column_max = np.max(arr, axis=0)\n",
    "print(column_max)\n"
   ]
  },
  {
   "cell_type": "markdown",
   "id": "416237dd",
   "metadata": {},
   "source": [
    "# 43. For the given array, find indices of maximum value in each column."
   ]
  },
  {
   "cell_type": "code",
   "execution_count": 34,
   "id": "7e792769",
   "metadata": {},
   "outputs": [
    {
     "name": "stdout",
     "output_type": "stream",
     "text": [
      "[1 1 1]\n"
     ]
    }
   ],
   "source": [
    "arr = np.array([[1, 2, 3],\n",
    "                [4, 5, 6]])\n",
    "column_max_indices = np.argmax(arr, axis=0)\n",
    "print(column_max_indices)"
   ]
  },
  {
   "cell_type": "markdown",
   "id": "78fb93f4",
   "metadata": {},
   "source": [
    "# 44. For the given array, apply custom function to calculate moving sum along rows."
   ]
  },
  {
   "cell_type": "code",
   "execution_count": 35,
   "id": "bd489544",
   "metadata": {},
   "outputs": [
    {
     "name": "stdout",
     "output_type": "stream",
     "text": [
      "[[ 3  5]\n",
      " [ 9 11]]\n"
     ]
    }
   ],
   "source": [
    "arr = np.array([[1, 2, 3],\n",
    "                [4, 5, 6]])\n",
    "def moving_sum(arr):\n",
    "    return np.convolve(arr, np.ones(2, dtype=int), 'valid')\n",
    "moving_sums = np.apply_along_axis(moving_sum, 1, arr)\n",
    "print(moving_sums)"
   ]
  },
  {
   "cell_type": "markdown",
   "id": "a9e245e8",
   "metadata": {},
   "source": [
    "# 45. In the given array, check if all elements in each column are even"
   ]
  },
  {
   "cell_type": "code",
   "execution_count": 36,
   "id": "488b84c5",
   "metadata": {},
   "outputs": [
    {
     "name": "stdout",
     "output_type": "stream",
     "text": [
      "[False False False]\n"
     ]
    }
   ],
   "source": [
    "arr = np.array([[2, 4, 6],\n",
    "                [3, 5, 7]])\n",
    "are_all_even = np.all(arr % 2 == 0, axis=0)\n",
    "print(are_all_even)"
   ]
  },
  {
   "cell_type": "markdown",
   "id": "8f842671",
   "metadata": {},
   "source": [
    "# 46. Given a NumPy array arr, reshape it into a matrix of dimensions `m` rows and `n` columns. Return the reshaped matrix."
   ]
  },
  {
   "cell_type": "code",
   "execution_count": 29,
   "id": "900c9dd0",
   "metadata": {},
   "outputs": [
    {
     "name": "stdout",
     "output_type": "stream",
     "text": [
      "[[1 2 3]\n",
      " [4 5 6]]\n"
     ]
    }
   ],
   "source": [
    "original_array = np.array([1, 2, 3, 4, 5, 6])\n",
    "m, n = 2, 3 \n",
    "\n",
    "reshaped_matrix = original_array.reshape(m, n)\n",
    "print(reshaped_matrix)"
   ]
  },
  {
   "cell_type": "markdown",
   "id": "592fbb59",
   "metadata": {},
   "source": [
    "# 47. Create a function that takes a matrix as input and returns the flattened array."
   ]
  },
  {
   "cell_type": "code",
   "execution_count": 38,
   "id": "4d64374f",
   "metadata": {},
   "outputs": [
    {
     "name": "stdout",
     "output_type": "stream",
     "text": [
      "[1 2 3 4 5 6]\n"
     ]
    }
   ],
   "source": [
    "def flatten_matrix(matrix):\n",
    "    return matrix.flatten()\n",
    "input_matrix = np.array([[1, 2, 3],\n",
    "                         [4, 5, 6]])\n",
    "flattened_array = flatten_matrix(input_matrix)\n",
    "print(flattened_array)"
   ]
  },
  {
   "cell_type": "markdown",
   "id": "ea0a0021",
   "metadata": {},
   "source": [
    "# 48. Write a function that concatenates two given arrays along a specified axis"
   ]
  },
  {
   "cell_type": "code",
   "execution_count": 31,
   "id": "014dccb4",
   "metadata": {},
   "outputs": [
    {
     "name": "stdout",
     "output_type": "stream",
     "text": [
      "Concatenated along axis 0:\n",
      "[[1 2]\n",
      " [3 4]\n",
      " [5 6]\n",
      " [7 8]]\n",
      "\n",
      "Concatenated along axis 1:\n",
      "[[1 2 5 6]\n",
      " [3 4 7 8]]\n"
     ]
    }
   ],
   "source": [
    "array1 = np.array([[1, 2],\n",
    "                   [3, 4]])\n",
    "\n",
    "array2 = np.array([[5, 6],\n",
    "                   [7, 8]])\n",
    "concatenated_axis0 = concatenate_arrays(array1, array2, axis=0)\n",
    "concatenated_axis1 = concatenate_arrays(array1, array2, axis=1)\n",
    "print(\"Concatenated along axis 0:\")\n",
    "print(concatenated_axis0)\n",
    "print(\"\\nConcatenated along axis 1:\")\n",
    "print(concatenated_axis1)\n"
   ]
  },
  {
   "cell_type": "markdown",
   "id": "e06b0b10",
   "metadata": {},
   "source": [
    "# 49. Create a function that splits an array into multiple sub-arrays along a specified axis# 49. Create a function that splits an array into multiple sub-arrays along a specified axis"
   ]
  },
  {
   "cell_type": "code",
   "execution_count": 37,
   "id": "d9700295",
   "metadata": {},
   "outputs": [
    {
     "name": "stdout",
     "output_type": "stream",
     "text": [
      "[array([[1],\n",
      "       [4],\n",
      "       [7]]), array([[2],\n",
      "       [5],\n",
      "       [8]]), array([[3],\n",
      "       [6],\n",
      "       [9]])]\n"
     ]
    }
   ],
   "source": [
    "import numpy as np\n",
    "original_array = np.array([[1, 2, 3], [4, 5, 6], [7, 8, 9]])\n",
    "sub_arrays = np.split(original_array, 3, axis=1)  # Split along axis 1 into 3 sub-arrays\n",
    "print(sub_arrays)"
   ]
  },
  {
   "cell_type": "markdown",
   "id": "dbb2f702",
   "metadata": {},
   "source": [
    "# 50. Write a function that inserts and then deletes elements from a given array at specified indices"
   ]
  },
  {
   "cell_type": "code",
   "execution_count": 41,
   "id": "da7b9e56",
   "metadata": {},
   "outputs": [
    {
     "name": "stdout",
     "output_type": "stream",
     "text": [
      "Resulting array: [ 1 10 11  4  5]\n"
     ]
    }
   ],
   "source": [
    "original_array = np.array([1, 2, 3, 4, 5])\n",
    "indices_to_insert = [2, 4]\n",
    "values_to_insert = [10, 11]\n",
    "indices_to_delete = [1, 3]\n",
    "def insert_and_delete_elements(arr, indices_to_insert, values_to_insert, indices_to_delete):\n",
    "    for idx, value in zip(indices_to_insert, values_to_insert):\n",
    "        arr = np.insert(arr, idx, value)\n",
    "    arr = np.delete(arr, indices_to_delete)\n",
    "    return arr\n",
    "result_array = insert_and_delete_elements(original_array, indices_to_insert, values_to_insert, indices_to_delete)\n",
    "print(\"Resulting array:\", result_array)"
   ]
  },
  {
   "cell_type": "markdown",
   "id": "bdbadb4c",
   "metadata": {},
   "source": [
    "# 51. Create a NumPy array `arr1` with random integers and another array `arr2` with integers from 1 to 10. Perform element-wise addition between `arr1` and `arr2`."
   ]
  },
  {
   "cell_type": "code",
   "execution_count": 38,
   "id": "bcd41687",
   "metadata": {},
   "outputs": [
    {
     "name": "stdout",
     "output_type": "stream",
     "text": [
      "arr1:\n",
      "1\n",
      "\n",
      "arr2:\n",
      "[ 1  2  3  4  5  6  7  8  9 10]\n",
      "\n",
      "Result of element-wise addition:\n",
      "[ 2  3  4  5  6  7  8  9 10 11]\n"
     ]
    }
   ],
   "source": [
    "arr1 = np.random.randint(1, 100)\n",
    "arr2 = np.arange(1, 11)  \n",
    "result = arr1 + arr2\n",
    "print(\"arr1:\")\n",
    "print(arr1)\n",
    "print(\"\\narr2:\")\n",
    "print(arr2)\n",
    "print(\"\\nResult of element-wise addition:\")\n",
    "print(result)\n"
   ]
  },
  {
   "cell_type": "markdown",
   "id": "17ade632",
   "metadata": {},
   "source": [
    "# 52. Generate a NumPy array `arr1` with sequential integers from 10 to 1 and another array `arr2` with integers from 1 to 10. Subtract `arr2` from `arr1` element-wise."
   ]
  },
  {
   "cell_type": "code",
   "execution_count": 43,
   "id": "4483bd4a",
   "metadata": {},
   "outputs": [
    {
     "name": "stdout",
     "output_type": "stream",
     "text": [
      "arr1: [10  9  8  7  6  5  4  3  2  1]\n",
      "arr2: [ 1  2  3  4  5  6  7  8  9 10]\n",
      "Result of element-wise subtraction:\n",
      "[ 9  7  5  3  1 -1 -3 -5 -7 -9]\n"
     ]
    }
   ],
   "source": [
    "arr1 = np.arange(10, 0, -1)  \n",
    "arr2 = np.arange(1, 11)  \n",
    "result = arr1 - arr2\n",
    "print(\"arr1:\", arr1)\n",
    "print(\"arr2:\", arr2)\n",
    "print(\"Result of element-wise subtraction:\")\n",
    "print(result)"
   ]
  },
  {
   "cell_type": "markdown",
   "id": "02bbc8cb",
   "metadata": {},
   "source": [
    "# 53. Create a NumPy array `arr1` with random integers and another array `arr2` with integers from 1 to 5. Perform element-wise multiplication between `arr1` and `arr2`."
   ]
  },
  {
   "cell_type": "code",
   "execution_count": 44,
   "id": "97d4006f",
   "metadata": {},
   "outputs": [
    {
     "name": "stdout",
     "output_type": "stream",
     "text": [
      "arr1:\n",
      "[[ 1  4 12 20 35]\n",
      " [ 1  8  9 16  5]\n",
      " [ 4  6  3 36 10]]\n"
     ]
    }
   ],
   "source": [
    "arr1 = np.random.randint(1, 10, size=(3, 5)) \n",
    "arr2 = np.arange(1, 6) \n",
    "result = arr1 * arr2\n",
    "print(\"arr1:\")\n",
    "print(result)"
   ]
  },
  {
   "cell_type": "markdown",
   "id": "60d99f4c",
   "metadata": {},
   "source": [
    "# 54. Generate a NumPy array `arr1` with even integers from 2 to 10 and another array `arr2` with integers from 1 to 5. Perform element-wise division of `arr1` by `arr2`."
   ]
  },
  {
   "cell_type": "code",
   "execution_count": 45,
   "id": "97058d21",
   "metadata": {},
   "outputs": [
    {
     "name": "stdout",
     "output_type": "stream",
     "text": [
      "arr1: [ 2  4  6  8 10]\n",
      "arr2: [1 2 3 4 5]\n",
      "[2. 2. 2. 2. 2.]\n"
     ]
    }
   ],
   "source": [
    "arr1 = np.arange(2, 11, 2)  \n",
    "arr2 = np.arange(1, 6) \n",
    "result = arr1 / arr2\n",
    "print(\"arr1:\", arr1)\n",
    "print(\"arr2:\", arr2)\n",
    "print(result)"
   ]
  },
  {
   "cell_type": "markdown",
   "id": "8232c136",
   "metadata": {},
   "source": [
    "# 55. Create a NumPy array `arr1` with integers from 1 to 5 and another array `arr2` with the same numbers reversed. Calculate the exponentiation of `arr1` raised to the power of `arr2` element-wise."
   ]
  },
  {
   "cell_type": "code",
   "execution_count": 46,
   "id": "61e361b5",
   "metadata": {},
   "outputs": [
    {
     "name": "stdout",
     "output_type": "stream",
     "text": [
      "arr1: [1 2 3 4 5]\n",
      "arr2: [5 4 3 2 1]\n",
      "[ 1 16 27 16  5]\n"
     ]
    }
   ],
   "source": [
    "arr1 = np.arange(1, 6) \n",
    "arr2 = arr1[::-1]  \n",
    "result = arr1 ** arr2 \n",
    "print(\"arr1:\", arr1)\n",
    "print(\"arr2:\", arr2)\n",
    "print(result)"
   ]
  },
  {
   "cell_type": "markdown",
   "id": "dde7009e",
   "metadata": {},
   "source": [
    "# 56. Write a function that counts the occurrences of a specific substring within a NumPy array of strings."
   ]
  },
  {
   "cell_type": "code",
   "execution_count": 47,
   "id": "d831ec72",
   "metadata": {},
   "outputs": [
    {
     "name": "stdout",
     "output_type": "stream",
     "text": [
      "Occurrences of 'hello' in the array: 3\n"
     ]
    }
   ],
   "source": [
    "arr = np.array(['hello', 'world', 'hello', 'numpy', 'hello'])\n",
    "def count_substring_occurrences(arr, substring):\n",
    "    arr_list = arr.tolist()\n",
    "    count = 0\n",
    "    for s in arr_list:\n",
    "        count += s.count(substring)\n",
    "    return count\n",
    "substring_to_count = 'hello'\n",
    "occurrences = count_substring_occurrences(arr, substring_to_count)\n",
    "print(f\"Occurrences of '{substring_to_count}' in the array: {occurrences}\")\n"
   ]
  },
  {
   "cell_type": "markdown",
   "id": "00f82d4f",
   "metadata": {},
   "source": [
    "# 57. Write a function that extracts uppercase characters from a NumPy array of strings.\n",
    "\n",
    "arr = np.array(['Hello', 'World', 'OpenAI', 'GPT'])"
   ]
  },
  {
   "cell_type": "code",
   "execution_count": 48,
   "id": "04c0958e",
   "metadata": {},
   "outputs": [
    {
     "name": "stdout",
     "output_type": "stream",
     "text": [
      "['H', 'W', 'O', 'A', 'I', 'G', 'P', 'T']\n"
     ]
    }
   ],
   "source": [
    "arr = np.array(['Hello', 'World', 'OpenAI', 'GPT'])\n",
    "def extract_uppercase_characters(arr):\n",
    "    arr_list = arr.tolist()\n",
    "    uppercase_chars = []\n",
    "    for s in arr_list:\n",
    "        uppercase_chars.extend([ch for ch in s if ch.isupper()])\n",
    "    return uppercase_chars\n",
    "uppercase_chars = extract_uppercase_characters(arr)\n",
    "print( uppercase_chars)"
   ]
  },
  {
   "cell_type": "markdown",
   "id": "c9926689",
   "metadata": {},
   "source": [
    "# 58. Write a function that replaces occurrences of a substring in a NumPy array of strings with a new string."
   ]
  },
  {
   "cell_type": "code",
   "execution_count": 49,
   "id": "d9e61719",
   "metadata": {},
   "outputs": [
    {
     "name": "stdout",
     "output_type": "stream",
     "text": [
      "Modified array:\n",
      "['orange' 'banana' 'grape' 'pineorange']\n"
     ]
    }
   ],
   "source": [
    "arr = np.array(['apple', 'banana', 'grape', 'pineapple'])\n",
    "def replace_substring(arr, substring, new_substring):\n",
    "    arr_list = arr.tolist()\n",
    "    new_arr = np.array([s.replace(substring, new_substring) for s in arr_list])\n",
    "    return new_arr\n",
    "substring_to_replace = 'apple'\n",
    "new_substring = 'orange'\n",
    "modified_arr = replace_substring(arr, substring_to_replace, new_substring)\n",
    "print(\"Modified array:\")\n",
    "print(modified_arr)"
   ]
  },
  {
   "cell_type": "markdown",
   "id": "489f9e15",
   "metadata": {},
   "source": [
    "# 59. Write a function that concatenates strings in a NumPy array element-wise"
   ]
  },
  {
   "cell_type": "code",
   "execution_count": 50,
   "id": "770c6cf9",
   "metadata": {},
   "outputs": [
    {
     "name": "stdout",
     "output_type": "stream",
     "text": [
      "applebananagrapepineapple\n"
     ]
    }
   ],
   "source": [
    "arr = np.array(['apple', 'banana', 'grape', 'pineapple'])\n",
    "def concatenate_strings(arr):\n",
    "    arr_list = arr.tolist()\n",
    "    concatenated_string = ''.join(arr_list)\n",
    "    return concatenated_string\n",
    "concatenated_string = concatenate_strings(arr)\n",
    "print( concatenated_string)"
   ]
  },
  {
   "cell_type": "markdown",
   "id": "7fbf04e2",
   "metadata": {},
   "source": [
    "# 59. Write a function that concatenates strings in a NumPy array element-wise."
   ]
  },
  {
   "cell_type": "code",
   "execution_count": 51,
   "id": "23408ccb",
   "metadata": {},
   "outputs": [
    {
     "name": "stdout",
     "output_type": "stream",
     "text": [
      "Concatenated array:\n",
      "['HelloOpen' 'WorldAI']\n"
     ]
    }
   ],
   "source": [
    "arr1 = np.array(['Hello', 'World'])\n",
    "arr2 = np.array(['Open', 'AI'])\n",
    "def concatenate_strings_element_wise(arr1, arr2):\n",
    "    concatenated_array = np.core.defchararray.add(arr1, arr2)\n",
    "    return concatenated_array\n",
    "concatenated_array = concatenate_strings_element_wise(arr1, arr2)\n",
    "print(\"Concatenated array:\")\n",
    "print(concatenated_array)"
   ]
  },
  {
   "cell_type": "markdown",
   "id": "1e29583c",
   "metadata": {},
   "source": [
    "# 60. Write a function that finds the length of the longest string in a NumPy array."
   ]
  },
  {
   "cell_type": "code",
   "execution_count": 52,
   "id": "1f7afb5a",
   "metadata": {},
   "outputs": [
    {
     "name": "stdout",
     "output_type": "stream",
     "text": [
      "Length : 9\n"
     ]
    }
   ],
   "source": [
    "arr = np.array(['apple', 'banana', 'grape', 'pineapple'])\n",
    "def longest_string_length(arr):\n",
    "    arr_list = arr.tolist()\n",
    "    max_length = max(len(s) for s in arr_list)\n",
    "    return max_length\n",
    "longest_len = longest_string_length(arr)\n",
    "print(\"Length :\", longest_len)"
   ]
  },
  {
   "cell_type": "markdown",
   "id": "df4139a8",
   "metadata": {},
   "source": [
    "# 61. Create a dataset of 100 random integers between 1 and 1000. Compute the mean, median, variance, and standard deviation of the dataset using NumPy's functions."
   ]
  },
  {
   "cell_type": "code",
   "execution_count": 53,
   "id": "3f57eb4c",
   "metadata": {},
   "outputs": [
    {
     "name": "stdout",
     "output_type": "stream",
     "text": [
      "Mean: 497.58\n",
      "Median: 494.0\n",
      "Variance: 91801.80360000001\n",
      "Standard Deviation: 302.9881245197574\n"
     ]
    }
   ],
   "source": [
    "df = np.random.randint(1, 1001, size=100)\n",
    "mean_value = np.mean(df)\n",
    "median_value = np.median(df)\n",
    "var_value = np.var(df)\n",
    "std_deviation_value = np.std(df)\n",
    "\n",
    "print(f\"Mean: {mean_value}\")\n",
    "print(f\"Median: {median_value}\")\n",
    "print(f\"Variance: {var_value}\")\n",
    "print(f\"Standard Deviation: {std_deviation_value}\")\n"
   ]
  },
  {
   "cell_type": "markdown",
   "id": "49392d1b",
   "metadata": {},
   "source": [
    "# 62. Generate an array of 50 random numbers between 1 and 100. Find the 25th and 75th percentiles of the\n",
    "dataset."
   ]
  },
  {
   "cell_type": "code",
   "execution_count": 54,
   "id": "742b5d35",
   "metadata": {},
   "outputs": [
    {
     "name": "stdout",
     "output_type": "stream",
     "text": [
      "25th Percentile: 18.5\n",
      "75th Percentile: 78.75\n"
     ]
    }
   ],
   "source": [
    "random_numbers = np.random.randint(1, 101, size=50)\n",
    "percentile_25 = np.percentile(random_numbers, 25)\n",
    "percentile_75 = np.percentile(random_numbers, 75)\n",
    "\n",
    "print(f\"25th Percentile: {percentile_25}\")\n",
    "print(f\"75th Percentile: {percentile_75}\")\n",
    "\n"
   ]
  },
  {
   "cell_type": "markdown",
   "id": "4d29eecd",
   "metadata": {},
   "source": [
    "# 63. Create two arrays representing two sets of variables. Compute the correlation coefficient between these arrays using NumPy's `corrcoef` function"
   ]
  },
  {
   "cell_type": "code",
   "execution_count": 55,
   "id": "7384fcd6",
   "metadata": {},
   "outputs": [
    {
     "name": "stdout",
     "output_type": "stream",
     "text": [
      "Correlation: -0.12363361353726542\n"
     ]
    }
   ],
   "source": [
    "array1 = np.random.randint(1, 101, size=100)\n",
    "array2 = np.random.randint(1, 101, size=100)\n",
    "correlation = np.corrcoef(array1, array2)[0, 1]\n",
    "\n",
    "print(f\"Correlation: {correlation}\")\n"
   ]
  },
  {
   "cell_type": "markdown",
   "id": "4cc199bd",
   "metadata": {},
   "source": [
    "# 64. Create two matrices and perform matrix multiplication using NumPy's `dot` function"
   ]
  },
  {
   "cell_type": "code",
   "execution_count": 56,
   "id": "0ddcdf58",
   "metadata": {},
   "outputs": [
    {
     "name": "stdout",
     "output_type": "stream",
     "text": [
      "Matrix 1:\n",
      "[[7 2 1 6]\n",
      " [9 5 5 1]\n",
      " [6 4 8 1]]\n",
      "\n",
      "Matrix 2:\n",
      "[[6 9 3]\n",
      " [8 5 4]\n",
      " [8 7 7]\n",
      " [4 2 6]]\n",
      "\n",
      "Result of matrix multiplication:\n",
      "[[ 90  92  72]\n",
      " [138 143  88]\n",
      " [136 132  96]]\n"
     ]
    }
   ],
   "source": [
    "matrix1 = np.random.randint(1, 10, size=(3, 4))\n",
    "matrix2 = np.random.randint(1, 10, size=(4, 3))\n",
    "result_matrix = np.dot(matrix1, matrix2)\n",
    "print(\"Matrix 1:\")\n",
    "print(matrix1)\n",
    "print(\"\\nMatrix 2:\")\n",
    "print(matrix2)\n",
    "print(\"\\nResult of matrix multiplication:\")\n",
    "print(result_matrix)"
   ]
  },
  {
   "cell_type": "markdown",
   "id": "e70ceb95",
   "metadata": {},
   "source": [
    "# 65. Create an array of 50 integers between 10 and 1000. Calculate the 10th, 50th (median), and 90th percentiles along with the first and third quartiles."
   ]
  },
  {
   "cell_type": "code",
   "execution_count": 57,
   "id": "849b5a62",
   "metadata": {},
   "outputs": [
    {
     "name": "stdout",
     "output_type": "stream",
     "text": [
      "10th Percentile: 133.7\n",
      "50th Percentile (Median): 590.0\n",
      "90th Percentile: 862.4\n",
      "First Quartile: 296.25\n",
      "Third Quartile: 719.75\n"
     ]
    }
   ],
   "source": [
    "random_int = np.random.randint(10, 1001, size=50)\n",
    "percentile_10 = np.percentile(random_int, 10)\n",
    "percentile_50 = np.percentile(random_int, 50)\n",
    "percentile_90 = np.percentile(random_int, 90)\n",
    "first_quartile = np.percentile(random_int, 25)\n",
    "third_quartile = np.percentile(random_int, 75)\n",
    "print(f\"10th Percentile: {percentile_10}\")\n",
    "print(f\"50th Percentile (Median): {percentile_50}\")\n",
    "print(f\"90th Percentile: {percentile_90}\")\n",
    "print(f\"First Quartile: {first_quartile}\")\n",
    "print(f\"Third Quartile: {third_quartile}\")"
   ]
  },
  {
   "cell_type": "markdown",
   "id": "f598cc4e",
   "metadata": {},
   "source": [
    "# 66. Create a NumPy array of integers and find the index of a specific element."
   ]
  },
  {
   "cell_type": "code",
   "execution_count": 58,
   "id": "f53120c0",
   "metadata": {},
   "outputs": [
    {
     "name": "stdout",
     "output_type": "stream",
     "text": [
      "The index of the element 70 is: 6\n"
     ]
    }
   ],
   "source": [
    "array = np.array([10, 20, 30, 40, 50, 60, 70, 80, 90, 100])\n",
    "element_to_find = 70\n",
    "index = np.where(array == element_to_find)[0]\n",
    "if index.size > 0:\n",
    "    print(f\"The index of the element {element_to_find} is: {index[0]}\")\n",
    "else:\n",
    "    print(f\"The element {element_to_find} is not in the array\")"
   ]
  },
  {
   "cell_type": "markdown",
   "id": "54f4d4e6",
   "metadata": {},
   "source": [
    "# 67. Generate a random NumPy array and sort it in ascending order."
   ]
  },
  {
   "cell_type": "code",
   "execution_count": 59,
   "id": "8cb1d04f",
   "metadata": {},
   "outputs": [
    {
     "name": "stdout",
     "output_type": "stream",
     "text": [
      "Random Array:\n",
      "[97  1 10 87 75 99 64 19 13 78  1 15 83 32 16 81 59 13 32 33]\n",
      "\n",
      "Sorted Array in Ascending Order:\n",
      "[ 1  1 10 13 13 15 16 19 32 32 33 59 64 75 78 81 83 87 97 99]\n"
     ]
    }
   ],
   "source": [
    "random_array = np.random.randint(1, 101, size=20)\n",
    "sorted_array = np.sort(random_array)\n",
    "\n",
    "print(\"Random Array:\")\n",
    "print(random_array)\n",
    "print(\"\\nSorted Array in Ascending Order:\")\n",
    "print(sorted_array)\n"
   ]
  },
  {
   "cell_type": "markdown",
   "id": "aee87ea8",
   "metadata": {},
   "source": [
    "# 68. Filter elements >20  in the given NumPy array."
   ]
  },
  {
   "cell_type": "code",
   "execution_count": 60,
   "id": "1e46c422",
   "metadata": {},
   "outputs": [
    {
     "name": "stdout",
     "output_type": "stream",
     "text": [
      "[12 25  6 42  8 30]\n",
      "[ 30  40  50  60  70  80  90 100]\n"
     ]
    }
   ],
   "source": [
    "arr = np.array([12, 25, 6, 42, 8, 30])\n",
    "filtered_array = array[array > 20]\n",
    "\n",
    "print(arr)\n",
    "print(filtered_array)"
   ]
  },
  {
   "cell_type": "markdown",
   "id": "e8af515d",
   "metadata": {},
   "source": [
    "# 69. Filter elements which are divisible by 3 from a given NumPy array."
   ]
  },
  {
   "cell_type": "code",
   "execution_count": 61,
   "id": "37399ce2",
   "metadata": {},
   "outputs": [
    {
     "name": "stdout",
     "output_type": "stream",
     "text": [
      "Original array: [ 1  5  8 12 15]\n",
      "Elements divisible by 3: [12 15]\n"
     ]
    }
   ],
   "source": [
    "arr = np.array([1, 5, 8, 12, 15])\n",
    "mask = (arr % 3 == 0)\n",
    "result = arr[mask]\n",
    "\n",
    "print(\"Original array:\", arr)\n",
    "print(\"Elements divisible by 3:\", result)\n"
   ]
  },
  {
   "cell_type": "markdown",
   "id": "d1a22c9f",
   "metadata": {},
   "source": [
    "# 70. Filter elements which are ≥ 20 and ≤ 40 from a given NumPy array."
   ]
  },
  {
   "cell_type": "code",
   "execution_count": 62,
   "id": "d44d149e",
   "metadata": {},
   "outputs": [
    {
     "name": "stdout",
     "output_type": "stream",
     "text": [
      "Original array: [10 20 30 40 50]\n",
      "Filtered elements: [20 30 40]\n"
     ]
    }
   ],
   "source": [
    "arr = np.array([10, 20, 30, 40, 50])\n",
    "mask = (arr >= 20) & (arr <= 40)\n",
    "result = arr[mask]\n",
    "\n",
    "print(\"Original array:\", arr)\n",
    "print(\"Filtered elements:\", result)"
   ]
  },
  {
   "cell_type": "markdown",
   "id": "ed851de6",
   "metadata": {},
   "source": [
    "# 71. For the given NumPy array, check its byte order using the `dtype` attribute byteorder."
   ]
  },
  {
   "cell_type": "code",
   "execution_count": 63,
   "id": "5d293cab",
   "metadata": {},
   "outputs": [
    {
     "name": "stdout",
     "output_type": "stream",
     "text": [
      "Array: [1 2 3]\n",
      "Byte order: =\n"
     ]
    }
   ],
   "source": [
    "arr = np.array([1, 2, 3])\n",
    "byte_order = arr.dtype.byteorder\n",
    "print(\"Array:\", arr)\n",
    "print(\"Byte order:\", byte_order)\n"
   ]
  },
  {
   "cell_type": "markdown",
   "id": "fc77cc4d",
   "metadata": {},
   "source": [
    "# 72. For the given NumPy array, perform byte swapping in place using `byteswap()"
   ]
  },
  {
   "cell_type": "code",
   "execution_count": 64,
   "id": "398c1f46",
   "metadata": {},
   "outputs": [
    {
     "name": "stdout",
     "output_type": "stream",
     "text": [
      "Original array: [1 2 3]\n",
      "after byte swapping: [16777216 33554432 50331648]\n"
     ]
    }
   ],
   "source": [
    "arr = np.array([1, 2, 3], dtype=np.int32)\n",
    "print(\"Original array:\", arr)\n",
    "arr.byteswap(inplace=True)\n",
    "print(\"after byte swapping:\", arr)"
   ]
  },
  {
   "cell_type": "markdown",
   "id": "60c3d793",
   "metadata": {},
   "source": [
    "# 73. For the given NumPy array, swap its byte order without modifying the original array using `newbyteorder()"
   ]
  },
  {
   "cell_type": "code",
   "execution_count": 65,
   "id": "be074d72",
   "metadata": {},
   "outputs": [
    {
     "name": "stdout",
     "output_type": "stream",
     "text": [
      "Original array: [1 2 3]\n",
      "after swapping new byte order: [16777216 33554432 50331648]\n"
     ]
    }
   ],
   "source": [
    "arr = np.array([1, 2, 3], dtype=np.int32)\n",
    "print(\"Original array:\", arr)\n",
    "arr_swapped = arr.newbyteorder()\n",
    "print(\"after swapping new byte order:\", arr_swapped)"
   ]
  },
  {
   "cell_type": "markdown",
   "id": "76e90f07",
   "metadata": {},
   "source": [
    "# 74. For the given NumPy array and swap its byte order conditionally based on system endianness using `newbyteorder()`"
   ]
  },
  {
   "cell_type": "code",
   "execution_count": 66,
   "id": "b0dcfd44",
   "metadata": {},
   "outputs": [
    {
     "name": "stdout",
     "output_type": "stream",
     "text": [
      "Original array: [1 2 3]\n",
      "Array after swapping byte order: [1 2 3]\n"
     ]
    }
   ],
   "source": [
    "arr = np.array([1, 2, 3], dtype=np.int32)\n",
    "print(\"Original array:\", arr)\n",
    "system_endian = '='\n",
    "arr_swapped = arr.newbyteorder(system_endian)\n",
    "print(\"Array after swapping byte order:\", arr_swapped)"
   ]
  },
  {
   "cell_type": "markdown",
   "id": "fec98fba",
   "metadata": {},
   "source": [
    "# 75. For the given NumPy array, check if byte swapping is necessary for the current system using `dtype`  attribute `byteorder`."
   ]
  },
  {
   "cell_type": "code",
   "execution_count": 67,
   "id": "7109c9ab",
   "metadata": {},
   "outputs": [
    {
     "name": "stdout",
     "output_type": "stream",
     "text": [
      "Current system's byte order: =\n",
      "Byte swapping is not necessary.\n"
     ]
    }
   ],
   "source": [
    "arr = np.array([1, 2, 3], dtype=np.int32)\n",
    "system_byteorder = arr.dtype.byteorder\n",
    "print(\"Current system's byte order:\", system_byteorder)\n",
    "if system_byteorder != '=':\n",
    "    print(\"Byte swapping is necessary.\")\n",
    "else:\n",
    "    print(\"Byte swapping is not necessary.\")"
   ]
  },
  {
   "cell_type": "markdown",
   "id": "c9b363f0",
   "metadata": {},
   "source": [
    "# 76. Create a NumPy array `arr1` with values from 1 to 10. Create a copy of `arr1` named `copy_arr` and modify element in `copy_arr`. Check if modifying `copy_arr` affects `arr1`"
   ]
  },
  {
   "cell_type": "code",
   "execution_count": 68,
   "id": "f4f8058d",
   "metadata": {},
   "outputs": [
    {
     "name": "stdout",
     "output_type": "stream",
     "text": [
      "Original arr1: [ 1  2  3  4  5  6  7  8  9 10]\n",
      "Copy copy_arr: [ 1  2  3  4  5  6  7  8  9 10]\n",
      "\n",
      "After:\n",
      "arr1: [ 1  2  3  4  5  6  7  8  9 10]\n",
      "copy_arr: [100   2   3   4   5   6   7   8   9  10]\n"
     ]
    }
   ],
   "source": [
    "arr1 = np.arange(1, 11)\n",
    "copy_arr = arr1.copy()\n",
    "print(\"Original arr1:\", arr1)\n",
    "print(\"Copy copy_arr:\", copy_arr)\n",
    "copy_arr[0] = 100\n",
    "print(\"\\nAfter:\")\n",
    "print(\"arr1:\", arr1)\n",
    "print(\"copy_arr:\", copy_arr)"
   ]
  },
  {
   "cell_type": "markdown",
   "id": "a235c45e",
   "metadata": {},
   "source": [
    "# 77. Create a 2D NumPy array `matrix` of shape (3, 3) with random integers. Extract a slice `view_slice` from the matrix. Modify an element in `view_slice` and observe if it changes the original `matrix`."
   ]
  },
  {
   "cell_type": "code",
   "execution_count": 69,
   "id": "be213217",
   "metadata": {},
   "outputs": [
    {
     "name": "stdout",
     "output_type": "stream",
     "text": [
      "Original matrix:\n",
      "[[5 3 6]\n",
      " [6 5 9]\n",
      " [4 5 6]]\n",
      "\n",
      "Slice (view_slice) from matrix:\n",
      "[[5 9]\n",
      " [5 6]]\n",
      "\n",
      "After modifying:\n",
      "matrix:\n",
      "[[  5   3   6]\n",
      " [  6 100   9]\n",
      " [  4   5   6]]\n",
      "view_slice:\n",
      "[[100   9]\n",
      " [  5   6]]\n"
     ]
    }
   ],
   "source": [
    "matrix = np.random.randint(1, 10, size=(3, 3))\n",
    "print(\"Original matrix:\")\n",
    "print(matrix)\n",
    "view_slice = matrix[1:, 1:]\n",
    "print(\"\\nSlice (view_slice) from matrix:\")\n",
    "print(view_slice)\n",
    "view_slice[0, 0] = 100\n",
    "print(\"\\nAfter modifying:\")\n",
    "print(\"matrix:\")\n",
    "print(matrix)\n",
    "print(\"view_slice:\")\n",
    "print(view_slice)"
   ]
  },
  {
   "cell_type": "markdown",
   "id": "ea87caa8",
   "metadata": {},
   "source": [
    "# 78. Create a NumPy array `array_a` of shape (4, 3) with sequential integers from 1 to 12. Extract a slice `view_b` from `array_a` and broadcast the addition of 5 to view_b. Check if it alters the original `array_a`.\n"
   ]
  },
  {
   "cell_type": "code",
   "execution_count": 70,
   "id": "b98cc6a9",
   "metadata": {},
   "outputs": [
    {
     "name": "stdout",
     "output_type": "stream",
     "text": [
      "Original array_a:\n",
      "[[ 1  2  3]\n",
      " [ 4  5  6]\n",
      " [ 7  8  9]\n",
      " [10 11 12]]\n",
      "\n",
      "Slice (view_b) from array_a:\n",
      "[[ 7  8]\n",
      " [10 11]]\n",
      "\n",
      "After broadcasting addition of 5 :\n",
      "array_a:\n",
      "[[ 1  2  3]\n",
      " [ 4  5  6]\n",
      " [12 13  9]\n",
      " [15 16 12]]\n",
      "view_b:\n",
      "[[12 13]\n",
      " [15 16]]\n"
     ]
    }
   ],
   "source": [
    "array_a = np.arange(1, 13).reshape(4, 3)\n",
    "print(\"Original array_a:\")\n",
    "print(array_a)\n",
    "view_b = array_a[2:, :2]\n",
    "print(\"\\nSlice (view_b) from array_a:\")\n",
    "print(view_b)\n",
    "view_b += 5\n",
    "print(\"\\nAfter broadcasting addition of 5 :\")\n",
    "print(\"array_a:\")\n",
    "print(array_a)\n",
    "print(\"view_b:\")\n",
    "print(view_b)"
   ]
  },
  {
   "cell_type": "markdown",
   "id": "6cdd29b8",
   "metadata": {},
   "source": [
    "# 79. Create a NumPy array `orig_array` of shape (2, 4) with values from 1 to 8. Create a reshaped view reshaped_view` of shape (4, 2) from orig_array. Modify an element in `reshaped_view` and check if it reflects changes in the original `orig_array`."
   ]
  },
  {
   "cell_type": "code",
   "execution_count": 71,
   "id": "707ace76",
   "metadata": {},
   "outputs": [
    {
     "name": "stdout",
     "output_type": "stream",
     "text": [
      "Original orig_array:\n",
      "[[1 2 3 4]\n",
      " [5 6 7 8]]\n",
      "[[1 2]\n",
      " [3 4]\n",
      " [5 6]\n",
      " [7 8]]\n",
      "[[100   2   3   4]\n",
      " [  5   6   7   8]]\n",
      "[[100   2]\n",
      " [  3   4]\n",
      " [  5   6]\n",
      " [  7   8]]\n"
     ]
    }
   ],
   "source": [
    "orig_array = np.arange(1, 9).reshape(2, 4)\n",
    "print(\"Original orig_array:\")\n",
    "print(orig_array)\n",
    "reshaped_view = orig_array.reshape(4, 2)\n",
    "print(reshaped_view)\n",
    "reshaped_view[0, 0] = 100\n",
    "print(orig_array)\n",
    "print(reshaped_view)"
   ]
  },
  {
   "cell_type": "markdown",
   "id": "a7eae5ee",
   "metadata": {},
   "source": [
    "# 80. Create a NumPy array `data` of shape (3, 4) with random integers. Extract a copy `data_copy` of elements greater than 5. Modify an element in `data_copy` and verify if it affects the original `data`."
   ]
  },
  {
   "cell_type": "code",
   "execution_count": 72,
   "id": "3af4871d",
   "metadata": {},
   "outputs": [
    {
     "name": "stdout",
     "output_type": "stream",
     "text": [
      "Original data:\n",
      "[[2 5 5 1]\n",
      " [7 4 4 8]\n",
      " [4 2 4 5]]\n",
      "\n",
      "Copy (data_copy) of elements greater than 5:\n",
      "[7 8]\n",
      "\n",
      "After modifying:\n",
      "data:\n",
      "[[2 5 5 1]\n",
      " [7 4 4 8]\n",
      " [4 2 4 5]]\n",
      "data_copy:\n",
      "[100   8]\n"
     ]
    }
   ],
   "source": [
    "data = np.random.randint(1, 10, size=(3, 4))\n",
    "print(\"Original data:\")\n",
    "print(data)\n",
    "data_copy = data[data > 5].copy()\n",
    "print(\"\\nCopy (data_copy) of elements greater than 5:\")\n",
    "print(data_copy)\n",
    "data_copy[0] = 100\n",
    "print(\"\\nAfter modifying:\")\n",
    "print(\"data:\")\n",
    "print(data)\n",
    "print(\"data_copy:\")\n",
    "print(data_copy)"
   ]
  },
  {
   "cell_type": "markdown",
   "id": "1820f35e",
   "metadata": {},
   "source": [
    "# 81. Create two matrices A and B of identical shape containing integers and perform addition and subtraction operations between them."
   ]
  },
  {
   "cell_type": "code",
   "execution_count": 73,
   "id": "574b2cbb",
   "metadata": {},
   "outputs": [
    {
     "name": "stdout",
     "output_type": "stream",
     "text": [
      "Matrix A:\n",
      "[[1 2 3]\n",
      " [4 5 6]]\n",
      "\n",
      "Matrix B:\n",
      "[[ 7  8  9]\n",
      " [10 11 12]]\n",
      "\n",
      " addition :\n",
      "[[ 8 10 12]\n",
      " [14 16 18]]\n",
      "\n",
      " subtraction:\n",
      "[[-6 -6 -6]\n",
      " [-6 -6 -6]]\n"
     ]
    }
   ],
   "source": [
    "A = np.array([[1, 2, 3],\n",
    "              [4, 5, 6]])\n",
    "\n",
    "B = np.array([[7, 8, 9],\n",
    "              [10, 11, 12]])\n",
    "\n",
    "print(\"Matrix A:\")\n",
    "print(A)\n",
    "\n",
    "print(\"\\nMatrix B:\")\n",
    "print(B)\n",
    "\n",
    "addition_result = A + B\n",
    "print(\"\\n addition :\")\n",
    "print(addition_result)\n",
    "\n",
    "subtraction_result = A - B\n",
    "print(\"\\n subtraction:\")\n",
    "print(subtraction_result)\n"
   ]
  },
  {
   "cell_type": "markdown",
   "id": "4de4b0e4",
   "metadata": {},
   "source": [
    "# 82. Generate two matrices `C` (3x2) and `D` (2x4) and perform matrix multiplication."
   ]
  },
  {
   "cell_type": "code",
   "execution_count": 74,
   "id": "6e617615",
   "metadata": {},
   "outputs": [
    {
     "name": "stdout",
     "output_type": "stream",
     "text": [
      "Matrix C:\n",
      "[[1 2]\n",
      " [3 4]\n",
      " [5 6]]\n",
      "\n",
      "Matrix D:\n",
      "[[ 7  8  9 10]\n",
      " [11 12 13 14]]\n",
      "\n",
      "multiplication:\n",
      "[[ 29  32  35  38]\n",
      " [ 65  72  79  86]\n",
      " [101 112 123 134]]\n"
     ]
    }
   ],
   "source": [
    "C = np.array([[1, 2],\n",
    "              [3, 4],\n",
    "              [5, 6]])\n",
    "\n",
    "D = np.array([[7, 8, 9, 10],\n",
    "              [11, 12, 13, 14]])\n",
    "print(\"Matrix C:\")\n",
    "print(C)\n",
    "print(\"\\nMatrix D:\")\n",
    "print(D)\n",
    "result = np.dot(C, D)\n",
    "print(\"\\nmultiplication:\")\n",
    "print(result)"
   ]
  },
  {
   "cell_type": "markdown",
   "id": "666353be",
   "metadata": {},
   "source": [
    "# 83. Create a matrix `E` and find its transpose"
   ]
  },
  {
   "cell_type": "code",
   "execution_count": 75,
   "id": "e84756f5",
   "metadata": {},
   "outputs": [
    {
     "name": "stdout",
     "output_type": "stream",
     "text": [
      "Matrix E:\n",
      "[[1 2 3]\n",
      " [4 5 6]]\n",
      "\n",
      "Transpose of matrix E:\n",
      "[[1 4]\n",
      " [2 5]\n",
      " [3 6]]\n"
     ]
    }
   ],
   "source": [
    "E = np.array([[1, 2, 3],[4, 5, 6]])\n",
    "print(\"Matrix E:\")\n",
    "print(E)\n",
    "E_transpose = E.T \n",
    "print(\"\\nTranspose of matrix E:\")\n",
    "print(E_transpose)"
   ]
  },
  {
   "cell_type": "markdown",
   "id": "ded16ad4",
   "metadata": {},
   "source": [
    "# 84. Generate a square matrix `F` and compute its determinant"
   ]
  },
  {
   "cell_type": "code",
   "execution_count": 76,
   "id": "0ac4b95b",
   "metadata": {},
   "outputs": [
    {
     "name": "stdout",
     "output_type": "stream",
     "text": [
      "Matrix F:\n",
      "[[1 2 3]\n",
      " [4 5 6]\n",
      " [7 8 9]]\n",
      "\n",
      "Determinant of matrix F:\n",
      "-9.51619735392994e-16\n"
     ]
    }
   ],
   "source": [
    "F = np.array([[1, 2, 3],[4, 5, 6],[7, 8, 9]])\n",
    "print(\"Matrix F:\")\n",
    "print(F)\n",
    "determinant_F = np.linalg.det(F)\n",
    "\n",
    "print(\"\\nDeterminant of matrix F:\")\n",
    "print(determinant_F)\n"
   ]
  },
  {
   "cell_type": "markdown",
   "id": "181d8058",
   "metadata": {},
   "source": [
    "# 85. Create a square matrix `G` and find its inverse"
   ]
  },
  {
   "cell_type": "code",
   "execution_count": 77,
   "id": "9046a39a",
   "metadata": {},
   "outputs": [
    {
     "name": "stdout",
     "output_type": "stream",
     "text": [
      "Matrix G:\n",
      "[[1 2 3]\n",
      " [0 1 0]\n",
      " [4 5 6]]\n",
      "\n",
      "Inverse of matrix G:\n",
      "[[-1.         -0.5         0.5       ]\n",
      " [ 0.          1.          0.        ]\n",
      " [ 0.66666667 -0.5        -0.16666667]]\n"
     ]
    }
   ],
   "source": [
    "G = np.array([[1, 2, 3],[0, 1, 0],[4, 5, 6]])\n",
    "print(\"Matrix G:\")\n",
    "print(G)\n",
    "try:\n",
    "    inverse_G = np.linalg.inv(G)\n",
    "    print(\"\\nInverse of matrix G:\")\n",
    "    print(inverse_G)\n",
    "except np.linalg.LinAlgError:\n",
    "    print(\"\\nMatrix G is singular and does not have an inverse.\")"
   ]
  },
  {
   "cell_type": "code",
   "execution_count": null,
   "id": "6fc2771e",
   "metadata": {},
   "outputs": [],
   "source": []
  },
  {
   "cell_type": "code",
   "execution_count": null,
   "id": "652bdf5c",
   "metadata": {},
   "outputs": [],
   "source": []
  },
  {
   "cell_type": "code",
   "execution_count": null,
   "id": "b6e7ec3d",
   "metadata": {},
   "outputs": [],
   "source": []
  },
  {
   "cell_type": "code",
   "execution_count": null,
   "id": "21272f66",
   "metadata": {},
   "outputs": [],
   "source": []
  }
 ],
 "metadata": {
  "kernelspec": {
   "display_name": "Python 3 (ipykernel)",
   "language": "python",
   "name": "python3"
  },
  "language_info": {
   "codemirror_mode": {
    "name": "ipython",
    "version": 3
   },
   "file_extension": ".py",
   "mimetype": "text/x-python",
   "name": "python",
   "nbconvert_exporter": "python",
   "pygments_lexer": "ipython3",
   "version": "3.11.7"
  }
 },
 "nbformat": 4,
 "nbformat_minor": 5
}
